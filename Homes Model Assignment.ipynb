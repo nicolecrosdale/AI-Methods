{
 "cells": [
  {
   "cell_type": "markdown",
   "metadata": {},
   "source": [
    " # AI Methods\n",
    " \n",
    " ## Quick Overview of the Linear Model. \n",
    " \n",
    " "
   ]
  },
  {
   "cell_type": "markdown",
   "metadata": {},
   "source": [
    "## Linear Regression"
   ]
  },
  {
   "cell_type": "code",
   "execution_count": 1,
   "metadata": {},
   "outputs": [],
   "source": [
    "#import packages that will or may be needed\n",
    "from sklearn.linear_model import LinearRegression\n",
    "import pandas as pd\n",
    "import numpy as np\n",
    "import os\n",
    "\n",
    "from matplotlib import pyplot as plt\n",
    "import seaborn as sns\n",
    "%matplotlib inline \n",
    "from sklearn.linear_model import LinearRegression"
   ]
  },
  {
   "cell_type": "code",
   "execution_count": 2,
   "metadata": {},
   "outputs": [
    {
     "name": "stdout",
     "output_type": "stream",
     "text": [
      "          folio              site_address   SiteCity site_zip  sale_date  \\\n",
      "0     880790710    15941 FISHHAWK VIEW DR     LITHIA    33547   8/5/2016   \n",
      "1     880790706    15945 FISHHAWK VIEW DR     LITHIA    33547  4/28/2016   \n",
      "2     880790756    15944 FISHHAWK VIEW DR     LITHIA    33547   8/5/2016   \n",
      "3     741248296      6214 OSPREY LAKE CIR  RIVERVIEW    33578  2/22/2018   \n",
      "4     880790734    15977 FISHHAWK VIEW DR     LITHIA    33547  8/11/2016   \n",
      "...         ...                       ...        ...      ...        ...   \n",
      "7875  880800818  5010 SANDERLING RIDGE DR     LITHIA    33547  6/22/2018   \n",
      "7876  880800818  5010 SANDERLING RIDGE DR     LITHIA    33547  6/22/2018   \n",
      "7877  870981224      3331 STONEBRIDGE TRL    VALRICO    33596  5/20/2019   \n",
      "7878  880921584          5717 HAWKLAKE RD     LITHIA    33547   4/9/2020   \n",
      "7879  861420298   215 ENGLISH HERITAGE PL      DOVER    33527  8/30/2017   \n",
      "\n",
      "      sale_price  bed  bath  year_built   sq_ft  total_sq_ft  \\\n",
      "0         117000  2.0   2.5        2012  1216.0       1280.0   \n",
      "1         118000  2.0   2.5        2012  1216.0       1280.0   \n",
      "2         121000  2.0   2.5        2011  1216.0       1280.0   \n",
      "3         123000  3.0   2.5        2003  1506.0       1640.0   \n",
      "4         125000  2.0   2.5        2012  1216.0       1280.0   \n",
      "...          ...  ...   ...         ...     ...          ...   \n",
      "7875      260000  4.0   2.0        2010  1854.0       2487.0   \n",
      "7876      260000  4.0   2.0        2010  1854.0       2487.0   \n",
      "7877      260000  4.0   2.5        1997  2016.0       2850.0   \n",
      "7878      260000  4.0   2.0        2001  1751.0       2419.0   \n",
      "7879      262700  4.0   2.5        2017  2612.0       3100.0   \n",
      "\n",
      "                                 neighborhood  total_stories    qualified  \\\n",
      "0                          Fishhawk West Area            2.0    Qualified   \n",
      "1                          Fishhawk West Area            2.0    Qualified   \n",
      "2                          Fishhawk West Area            2.0    Qualified   \n",
      "3     N Riverview Area NE of 301 & Alafia Rvr            2.0    Qualified   \n",
      "4                          Fishhawk West Area            2.0    Qualified   \n",
      "...                                       ...            ...          ...   \n",
      "7875                       Fishhawk West Area            1.0    Qualified   \n",
      "7876                       Fishhawk West Area            1.0  Unqualified   \n",
      "7877                          Riverhills Area            2.0    Qualified   \n",
      "7878                       Fishhawk East Area            1.0    Qualified   \n",
      "7879             East Valrico / W Lithia Area            2.0    Qualified   \n",
      "\n",
      "      acreage  \n",
      "0        0.02  \n",
      "1        0.02  \n",
      "2        0.02  \n",
      "3        0.02  \n",
      "4        0.02  \n",
      "...       ...  \n",
      "7875     0.15  \n",
      "7876     0.15  \n",
      "7877     0.15  \n",
      "7878     0.15  \n",
      "7879     0.15  \n",
      "\n",
      "[7880 rows x 15 columns]\n"
     ]
    }
   ],
   "source": [
    "#import the homes data file and assign a variable to it \n",
    "homes = pd.read_csv(\"homesadj.csv\")\n",
    "print(homes)"
   ]
  },
  {
   "cell_type": "code",
   "execution_count": 3,
   "metadata": {},
   "outputs": [
    {
     "name": "stdout",
     "output_type": "stream",
     "text": [
      "<class 'pandas.core.frame.DataFrame'>\n",
      "RangeIndex: 7880 entries, 0 to 7879\n",
      "Data columns (total 15 columns):\n",
      " #   Column         Non-Null Count  Dtype  \n",
      "---  ------         --------------  -----  \n",
      " 0   folio          7880 non-null   int64  \n",
      " 1   site_address   7880 non-null   object \n",
      " 2   SiteCity       7879 non-null   object \n",
      " 3   site_zip       7880 non-null   object \n",
      " 4   sale_date      7880 non-null   object \n",
      " 5   sale_price     7880 non-null   int64  \n",
      " 6   bed            7807 non-null   float64\n",
      " 7   bath           7807 non-null   float64\n",
      " 8   year_built     7880 non-null   int64  \n",
      " 9   sq_ft          7814 non-null   float64\n",
      " 10  total_sq_ft    7814 non-null   float64\n",
      " 11  neighborhood   7880 non-null   object \n",
      " 12  total_stories  7815 non-null   float64\n",
      " 13  qualified      7880 non-null   object \n",
      " 14  acreage        7880 non-null   float64\n",
      "dtypes: float64(6), int64(3), object(6)\n",
      "memory usage: 923.6+ KB\n"
     ]
    }
   ],
   "source": [
    "#Here, we are just looking at the null values and data type so we can clean the data before creating visuals\n",
    "homes.info()"
   ]
  },
  {
   "cell_type": "code",
   "execution_count": 4,
   "metadata": {},
   "outputs": [
    {
     "data": {
      "text/plain": [
       "(7880, 15)"
      ]
     },
     "execution_count": 4,
     "metadata": {},
     "output_type": "execute_result"
    }
   ],
   "source": [
    "#this is just looking at the raw data size (rows,columns)\n",
    "homes.shape"
   ]
  },
  {
   "cell_type": "code",
   "execution_count": 5,
   "metadata": {},
   "outputs": [
    {
     "data": {
      "text/plain": [
       "folio             0\n",
       "site_address      0\n",
       "SiteCity          1\n",
       "site_zip          0\n",
       "sale_date         0\n",
       "sale_price        0\n",
       "bed              73\n",
       "bath             73\n",
       "year_built        0\n",
       "sq_ft            66\n",
       "total_sq_ft      66\n",
       "neighborhood      0\n",
       "total_stories    65\n",
       "qualified         0\n",
       "acreage           0\n",
       "dtype: int64"
      ]
     },
     "execution_count": 5,
     "metadata": {},
     "output_type": "execute_result"
    }
   ],
   "source": [
    "#here I am just looking at the null values in each column\n",
    "homes.isnull().sum()"
   ]
  },
  {
   "cell_type": "code",
   "execution_count": 6,
   "metadata": {},
   "outputs": [],
   "source": [
    "#Here I am just filtering the data to only contain values that have a home sales price\n",
    "#Challenge 1: There are values that have home prices less than 10,000 USD and home stories equal to 0 which is not realistic an could have been recorded in error\n",
    "#Solution 1:The code below is going to filter the homes data to only contain homes that are greater thn $10,000 and have\n",
    "#home stories greater than 0\n",
    "homes = homes.loc[(homes.sale_price>10000)&(homes.total_stories>0)]"
   ]
  },
  {
   "cell_type": "code",
   "execution_count": 7,
   "metadata": {},
   "outputs": [
    {
     "data": {
      "text/plain": [
       "(7060, 15)"
      ]
     },
     "execution_count": 7,
     "metadata": {},
     "output_type": "execute_result"
    }
   ],
   "source": [
    "#Now that those changes were made we can see that the raw data has been cut down 820 rows\n",
    "homes.shape"
   ]
  },
  {
   "cell_type": "code",
   "execution_count": 8,
   "metadata": {},
   "outputs": [],
   "source": [
    "#We are dropping rows with null values\n",
    "#Challenge 2: There are a lot of missing values in the data that can be an issue when making models \n",
    "#Solution 2: We are going to get rid of them with the code below\n",
    "\n",
    "homes=homes.dropna()"
   ]
  },
  {
   "cell_type": "code",
   "execution_count": 9,
   "metadata": {},
   "outputs": [
    {
     "data": {
      "text/plain": [
       "(7050, 15)"
      ]
     },
     "execution_count": 9,
     "metadata": {},
     "output_type": "execute_result"
    }
   ],
   "source": [
    "#with this change we now have a data set with 7050 rows which is still a lot to see a pattern in home characterisitc and sales price\n",
    "homes.shape"
   ]
  },
  {
   "cell_type": "code",
   "execution_count": 10,
   "metadata": {},
   "outputs": [
    {
     "data": {
      "text/plain": [
       "folio            0\n",
       "site_address     0\n",
       "SiteCity         0\n",
       "site_zip         0\n",
       "sale_date        0\n",
       "sale_price       0\n",
       "bed              0\n",
       "bath             0\n",
       "year_built       0\n",
       "sq_ft            0\n",
       "total_sq_ft      0\n",
       "neighborhood     0\n",
       "total_stories    0\n",
       "qualified        0\n",
       "acreage          0\n",
       "dtype: int64"
      ]
     },
     "execution_count": 10,
     "metadata": {},
     "output_type": "execute_result"
    }
   ],
   "source": [
    "#Here we are just double checking that all the null value are gone\n",
    "homes.isnull().sum()"
   ]
  },
  {
   "cell_type": "code",
   "execution_count": 11,
   "metadata": {},
   "outputs": [
    {
     "data": {
      "text/html": [
       "<div>\n",
       "<style scoped>\n",
       "    .dataframe tbody tr th:only-of-type {\n",
       "        vertical-align: middle;\n",
       "    }\n",
       "\n",
       "    .dataframe tbody tr th {\n",
       "        vertical-align: top;\n",
       "    }\n",
       "\n",
       "    .dataframe thead th {\n",
       "        text-align: right;\n",
       "    }\n",
       "</style>\n",
       "<table border=\"1\" class=\"dataframe\">\n",
       "  <thead>\n",
       "    <tr style=\"text-align: right;\">\n",
       "      <th></th>\n",
       "      <th>bed</th>\n",
       "      <th>bath</th>\n",
       "      <th>year_built</th>\n",
       "      <th>sq_ft</th>\n",
       "      <th>total_sq_ft</th>\n",
       "      <th>total_stories</th>\n",
       "      <th>acreage</th>\n",
       "    </tr>\n",
       "  </thead>\n",
       "  <tbody>\n",
       "    <tr>\n",
       "      <th>0</th>\n",
       "      <td>2.0</td>\n",
       "      <td>2.5</td>\n",
       "      <td>2012</td>\n",
       "      <td>1216.0</td>\n",
       "      <td>1280.0</td>\n",
       "      <td>2.0</td>\n",
       "      <td>0.02</td>\n",
       "    </tr>\n",
       "    <tr>\n",
       "      <th>1</th>\n",
       "      <td>2.0</td>\n",
       "      <td>2.5</td>\n",
       "      <td>2012</td>\n",
       "      <td>1216.0</td>\n",
       "      <td>1280.0</td>\n",
       "      <td>2.0</td>\n",
       "      <td>0.02</td>\n",
       "    </tr>\n",
       "    <tr>\n",
       "      <th>2</th>\n",
       "      <td>2.0</td>\n",
       "      <td>2.5</td>\n",
       "      <td>2011</td>\n",
       "      <td>1216.0</td>\n",
       "      <td>1280.0</td>\n",
       "      <td>2.0</td>\n",
       "      <td>0.02</td>\n",
       "    </tr>\n",
       "    <tr>\n",
       "      <th>3</th>\n",
       "      <td>3.0</td>\n",
       "      <td>2.5</td>\n",
       "      <td>2003</td>\n",
       "      <td>1506.0</td>\n",
       "      <td>1640.0</td>\n",
       "      <td>2.0</td>\n",
       "      <td>0.02</td>\n",
       "    </tr>\n",
       "    <tr>\n",
       "      <th>4</th>\n",
       "      <td>2.0</td>\n",
       "      <td>2.5</td>\n",
       "      <td>2012</td>\n",
       "      <td>1216.0</td>\n",
       "      <td>1280.0</td>\n",
       "      <td>2.0</td>\n",
       "      <td>0.02</td>\n",
       "    </tr>\n",
       "  </tbody>\n",
       "</table>\n",
       "</div>"
      ],
      "text/plain": [
       "   bed  bath  year_built   sq_ft  total_sq_ft  total_stories  acreage\n",
       "0  2.0   2.5        2012  1216.0       1280.0            2.0     0.02\n",
       "1  2.0   2.5        2012  1216.0       1280.0            2.0     0.02\n",
       "2  2.0   2.5        2011  1216.0       1280.0            2.0     0.02\n",
       "3  3.0   2.5        2003  1506.0       1640.0            2.0     0.02\n",
       "4  2.0   2.5        2012  1216.0       1280.0            2.0     0.02"
      ]
     },
     "execution_count": 11,
     "metadata": {},
     "output_type": "execute_result"
    }
   ],
   "source": [
    "#printing the first few rows of columns: bed, bath, year_built, sq_ft, total_sq_ft ,total_stories, acreage, we are looking at there \n",
    "#variables because they are quantitative and easiest to look at the impact of sales price\n",
    "x = homes[['bed','bath', 'year_built','sq_ft','total_sq_ft','total_stories','acreage']]\n",
    "x.head()"
   ]
  },
  {
   "cell_type": "code",
   "execution_count": 12,
   "metadata": {},
   "outputs": [
    {
     "data": {
      "text/plain": [
       "0    117000\n",
       "1    118000\n",
       "2    121000\n",
       "3    123000\n",
       "4    125000\n",
       "Name: sale_price, dtype: int64"
      ]
     },
     "execution_count": 12,
     "metadata": {},
     "output_type": "execute_result"
    }
   ],
   "source": [
    "#Printing sales price' columns\n",
    "y=homes['sale_price']\n",
    "y.head()"
   ]
  },
  {
   "cell_type": "code",
   "execution_count": 13,
   "metadata": {},
   "outputs": [
    {
     "name": "stdout",
     "output_type": "stream",
     "text": [
      "[-1.18416730e+04  2.08323864e+04  2.00534269e+03  2.53923831e+01\n",
      "  9.24688197e+01 -3.31636173e+04  6.54736133e+03]\n"
     ]
    }
   ],
   "source": [
    "#We are prinitng the slope of each of variable (bed','bath', 'year_built','sq_ft','total_sq_ft','total_stories','acreage)\n",
    "#and looking at it's relationship to sales price!\n",
    "#We can see that total_stories foot has the biggest impact on the price of a home\n",
    "model = LinearRegression(fit_intercept=True)\n",
    "model.fit(x, y)\n",
    "print(model.coef_)"
   ]
  },
  {
   "cell_type": "code",
   "execution_count": 14,
   "metadata": {},
   "outputs": [
    {
     "data": {
      "text/plain": [
       "<seaborn.axisgrid.PairGrid at 0x29674334b50>"
      ]
     },
     "execution_count": 14,
     "metadata": {},
     "output_type": "execute_result"
    },
    {
     "data": {
      "image/png": "[encoded data removed]",
      "text/plain": [
       "<Figure size 1260x180 with 7 Axes>"
      ]
     },
     "metadata": {
      "needs_background": "light"
     },
     "output_type": "display_data"
    }
   ],
   "source": [
    "sns.pairplot(homes,\n",
    "             x_vars=['bed','bath','year_built','sq_ft','total_sq_ft',\"total_stories\",'acreage'],\n",
    "             y_vars=['sale_price'],\n",
    "             kind='reg', plot_kws={'line_kws':{'color':'black'}})"
   ]
  },
  {
   "cell_type": "markdown",
   "metadata": {},
   "source": [
    "The heatmap below looks at the relationship between quantitative home charactistics and sales prices, from the visual below you and see that home stories has the biggest impact on price so that is something to be aware of when puchasing a home if you are budgeting."
   ]
  },
  {
   "cell_type": "code",
   "execution_count": 15,
   "metadata": {
    "scrolled": true
   },
   "outputs": [
    {
     "data": {
      "image/png": "[encoded data removed]",
      "text/plain": [
       "<Figure size 432x288 with 2 Axes>"
      ]
     },
     "metadata": {
      "needs_background": "light"
     },
     "output_type": "display_data"
    }
   ],
   "source": [
    "#importing the necessary packages again\n",
    "import pandas as pd\n",
    "import matplotlib.pyplot as plt\n",
    "import seaborn as sns\n",
    "\n",
    "#taking in the absolute value of the slope to see which characteristic has the strongest effect on price\n",
    "df = pd.DataFrame({\"Sale_Price\": [1.18416730e+04, 2.08323864e+04,  2.00534269e+03,  2.53923831e+01,\n",
    "                                  9.24688197e+01, 3.31636173e+04,  6.54736133e+03]},\n",
    "                  index=[\"bed\", \"bath\", \"year_built\", \"sq_ft\", \"total_sq_ft\",\"total_stories\",\"acreage\"])\n",
    "\n",
    "sns.heatmap(df, annot=True, fmt=\"g\", cmap='viridis')\n",
    "\n",
    "plt.show()"
   ]
  },
  {
   "cell_type": "markdown",
   "metadata": {},
   "source": [
    "-------------------------------------------------------------------------------------------------------------------------------"
   ]
  },
  {
   "cell_type": "markdown",
   "metadata": {},
   "source": [
    "Creating a visual displaying of the relationship between the zip code and average price"
   ]
  },
  {
   "cell_type": "code",
   "execution_count": 16,
   "metadata": {},
   "outputs": [
    {
     "data": {
      "text/plain": [
       "33547         4820\n",
       "33596         1230\n",
       "33578          672\n",
       "33527          115\n",
       "33511          104\n",
       "99999           37\n",
       "33567           35\n",
       "33547-          28\n",
       "33547-4886       2\n",
       "33596-           2\n",
       "33578-           2\n",
       "33594            2\n",
       "33578-8379       1\n",
       "Name: site_zip, dtype: int64"
      ]
     },
     "execution_count": 16,
     "metadata": {},
     "output_type": "execute_result"
    }
   ],
   "source": [
    "#looking at how many homes are catergorized into each zip code\n",
    "pd.value_counts(homes['site_zip'])"
   ]
  },
  {
   "cell_type": "code",
   "execution_count": 17,
   "metadata": {},
   "outputs": [],
   "source": [
    "# Replacing values in data for a given column\n",
    "homes['site_zip']=homes['site_zip'].replace({'33547-    ':'33547', \n",
    "                                        '33547-4886':'33547',\n",
    "                                        '33578-8379':'33578',\n",
    "                                        '33569-5294':'33569',\n",
    "                                        '33578-    ':'33578',\n",
    "                                        '33596-    ':'33569',\n",
    "                                        '99999':'no_zip'}, \n",
    "                                         inplace=False)"
   ]
  },
  {
   "cell_type": "code",
   "execution_count": 18,
   "metadata": {},
   "outputs": [
    {
     "data": {
      "text/plain": [
       "33547     4850\n",
       "33596     1230\n",
       "33578      675\n",
       "33527      115\n",
       "33511      104\n",
       "no_zip      37\n",
       "33567       35\n",
       "33569        2\n",
       "33594        2\n",
       "Name: site_zip, dtype: int64"
      ]
     },
     "execution_count": 18,
     "metadata": {},
     "output_type": "execute_result"
    }
   ],
   "source": [
    "#I have changed the column and edited the zip code values to associate one home with one sip code rather than a range\n",
    "pd.value_counts(homes['site_zip'])"
   ]
  },
  {
   "cell_type": "code",
   "execution_count": 19,
   "metadata": {},
   "outputs": [
    {
     "data": {
      "text/html": [
       "<div>\n",
       "<style scoped>\n",
       "    .dataframe tbody tr th:only-of-type {\n",
       "        vertical-align: middle;\n",
       "    }\n",
       "\n",
       "    .dataframe tbody tr th {\n",
       "        vertical-align: top;\n",
       "    }\n",
       "\n",
       "    .dataframe thead th {\n",
       "        text-align: right;\n",
       "    }\n",
       "</style>\n",
       "<table border=\"1\" class=\"dataframe\">\n",
       "  <thead>\n",
       "    <tr style=\"text-align: right;\">\n",
       "      <th></th>\n",
       "      <th>site_zip</th>\n",
       "      <th>sale_price</th>\n",
       "    </tr>\n",
       "  </thead>\n",
       "  <tbody>\n",
       "    <tr>\n",
       "      <th>0</th>\n",
       "      <td>33547</td>\n",
       "      <td>117000</td>\n",
       "    </tr>\n",
       "    <tr>\n",
       "      <th>1</th>\n",
       "      <td>33547</td>\n",
       "      <td>118000</td>\n",
       "    </tr>\n",
       "    <tr>\n",
       "      <th>2</th>\n",
       "      <td>33547</td>\n",
       "      <td>121000</td>\n",
       "    </tr>\n",
       "    <tr>\n",
       "      <th>3</th>\n",
       "      <td>33578</td>\n",
       "      <td>123000</td>\n",
       "    </tr>\n",
       "    <tr>\n",
       "      <th>4</th>\n",
       "      <td>33547</td>\n",
       "      <td>125000</td>\n",
       "    </tr>\n",
       "    <tr>\n",
       "      <th>...</th>\n",
       "      <td>...</td>\n",
       "      <td>...</td>\n",
       "    </tr>\n",
       "    <tr>\n",
       "      <th>7875</th>\n",
       "      <td>33547</td>\n",
       "      <td>260000</td>\n",
       "    </tr>\n",
       "    <tr>\n",
       "      <th>7876</th>\n",
       "      <td>33547</td>\n",
       "      <td>260000</td>\n",
       "    </tr>\n",
       "    <tr>\n",
       "      <th>7877</th>\n",
       "      <td>33596</td>\n",
       "      <td>260000</td>\n",
       "    </tr>\n",
       "    <tr>\n",
       "      <th>7878</th>\n",
       "      <td>33547</td>\n",
       "      <td>260000</td>\n",
       "    </tr>\n",
       "    <tr>\n",
       "      <th>7879</th>\n",
       "      <td>33527</td>\n",
       "      <td>262700</td>\n",
       "    </tr>\n",
       "  </tbody>\n",
       "</table>\n",
       "<p>7050 rows × 2 columns</p>\n",
       "</div>"
      ],
      "text/plain": [
       "     site_zip  sale_price\n",
       "0       33547      117000\n",
       "1       33547      118000\n",
       "2       33547      121000\n",
       "3       33578      123000\n",
       "4       33547      125000\n",
       "...       ...         ...\n",
       "7875    33547      260000\n",
       "7876    33547      260000\n",
       "7877    33596      260000\n",
       "7878    33547      260000\n",
       "7879    33527      262700\n",
       "\n",
       "[7050 rows x 2 columns]"
      ]
     },
     "execution_count": 19,
     "metadata": {},
     "output_type": "execute_result"
    }
   ],
   "source": [
    "#Displaying the columns that show the fixed zip code of each home and their corresponding price\n",
    "zip_sale=homes[['site_zip','sale_price']]\n",
    "zip_sale"
   ]
  },
  {
   "cell_type": "code",
   "execution_count": 32,
   "metadata": {},
   "outputs": [
    {
     "data": {
      "text/plain": [
       "364976.61814432987"
      ]
     },
     "execution_count": 32,
     "metadata": {},
     "output_type": "execute_result"
    }
   ],
   "source": [
    "#The codes below are used to find the mean sales price based on specific zip codes\n",
    "homes.loc[homes['site_zip'] =='33547','sale_price'].mean()"
   ]
  },
  {
   "cell_type": "code",
   "execution_count": 33,
   "metadata": {},
   "outputs": [
    {
     "data": {
      "text/plain": [
       "310043.6235772358"
      ]
     },
     "execution_count": 33,
     "metadata": {},
     "output_type": "execute_result"
    }
   ],
   "source": [
    "homes.loc[homes['site_zip'] =='33596','sale_price'].mean()"
   ]
  },
  {
   "cell_type": "code",
   "execution_count": 22,
   "metadata": {},
   "outputs": [
    {
     "data": {
      "text/plain": [
       "217811.11111111112"
      ]
     },
     "execution_count": 22,
     "metadata": {},
     "output_type": "execute_result"
    }
   ],
   "source": [
    "homes.loc[homes['site_zip'] =='33578','sale_price'].mean()"
   ]
  },
  {
   "cell_type": "code",
   "execution_count": 23,
   "metadata": {},
   "outputs": [
    {
     "data": {
      "text/plain": [
       "243258.26086956522"
      ]
     },
     "execution_count": 23,
     "metadata": {},
     "output_type": "execute_result"
    }
   ],
   "source": [
    "homes.loc[homes['site_zip'] =='33527','sale_price'].mean()"
   ]
  },
  {
   "cell_type": "code",
   "execution_count": 24,
   "metadata": {},
   "outputs": [
    {
     "data": {
      "text/plain": [
       "350786.53846153844"
      ]
     },
     "execution_count": 24,
     "metadata": {},
     "output_type": "execute_result"
    }
   ],
   "source": [
    "homes.loc[homes['site_zip'] =='33511','sale_price'].mean()"
   ]
  },
  {
   "cell_type": "code",
   "execution_count": 25,
   "metadata": {},
   "outputs": [
    {
     "data": {
      "text/plain": [
       "196037.9714285714"
      ]
     },
     "execution_count": 25,
     "metadata": {},
     "output_type": "execute_result"
    }
   ],
   "source": [
    "homes.loc[homes['site_zip'] =='33567','sale_price'].mean()"
   ]
  },
  {
   "cell_type": "code",
   "execution_count": 26,
   "metadata": {},
   "outputs": [
    {
     "data": {
      "text/plain": [
       "286500.0"
      ]
     },
     "execution_count": 26,
     "metadata": {},
     "output_type": "execute_result"
    }
   ],
   "source": [
    "homes.loc[homes['site_zip'] =='33569','sale_price'].mean()"
   ]
  },
  {
   "cell_type": "code",
   "execution_count": 27,
   "metadata": {},
   "outputs": [
    {
     "data": {
      "text/plain": [
       "330750.0"
      ]
     },
     "execution_count": 27,
     "metadata": {},
     "output_type": "execute_result"
    }
   ],
   "source": [
    "homes.loc[homes['site_zip'] =='33594','sale_price'].mean()"
   ]
  },
  {
   "cell_type": "code",
   "execution_count": 30,
   "metadata": {},
   "outputs": [
    {
     "data": {
      "text/plain": [
       "291672.97297297296"
      ]
     },
     "execution_count": 30,
     "metadata": {},
     "output_type": "execute_result"
    }
   ],
   "source": [
    "# The zip code 99999 indicates a home cannot be accuately placed so the visual will not include those homes\n",
    "homes.loc[homes['site_zip'] =='no_zip','sale_price'].mean()"
   ]
  },
  {
   "cell_type": "markdown",
   "metadata": {},
   "source": [
    "Below is a visual of the average home price based on zip code"
   ]
  },
  {
   "cell_type": "code",
   "execution_count": 31,
   "metadata": {},
   "outputs": [
    {
     "data": {
      "image/png": "[encoded data removed]",
      "text/plain": [
       "<Figure size 432x288 with 1 Axes>"
      ]
     },
     "metadata": {
      "needs_background": "light"
     },
     "output_type": "display_data"
    }
   ],
   "source": [
    "zip = ['33547','33596','33578','33527','33511','33567','33569','33594']      \n",
    "mean_zip_price=[364976.61814432987,310043.6235772358,217044.85294117648,\n",
    "                243258.26086956522,350786.53846153844,196037.9714285714,\n",
    "                286500.0,330750.0]\n",
    "plt.scatter(zip, mean_zip_price, color='black')\n",
    "plt.plot(zip, mean_zip_price, color='royalblue')\n",
    "plt.xlabel('Zip Code')\n",
    "plt.ylabel('Sales Price')\n",
    "plt.title('Mean Home Price based on Zip Code')\n",
    "plt.show()"
   ]
  },
  {
   "cell_type": "markdown",
   "metadata": {},
   "source": [
    "Findings: Zip codes 33547,33511 and 33594 have homes with an average price more than the others"
   ]
  },
  {
   "cell_type": "markdown",
   "metadata": {},
   "source": [
    "Creating a bar chart that displays qualified and unquaified homes"
   ]
  },
  {
   "cell_type": "markdown",
   "metadata": {},
   "source": [
    "-Qualified homes include interest and points you pay on a loan secured by your main home or a second home. Your main home is where you live most of the time, such as a house, cooperative apartment, condominium, mobile home, house trailer, or houseboat. It must have sleeping, cooking, and toilet facilities.\n",
    "(https://www.irs.gov/taxtopics/tc505)\n",
    "\n",
    "-\"An unqualified sale is a sale transaction in which a property is not sold at full market value.\n",
    "For eg., when a property is foreclosed and sold or it is transferred to a relative, the full market value is \n",
    "not arrived at in the transaction. These transactions are known as unqualified sales.\" \n",
    "(https://www.mortgagefit.com/know-how/unqualified-sale.html)"
   ]
  },
  {
   "cell_type": "code",
   "execution_count": 34,
   "metadata": {},
   "outputs": [
    {
     "data": {
      "text/html": [
       "<div>\n",
       "<style scoped>\n",
       "    .dataframe tbody tr th:only-of-type {\n",
       "        vertical-align: middle;\n",
       "    }\n",
       "\n",
       "    .dataframe tbody tr th {\n",
       "        vertical-align: top;\n",
       "    }\n",
       "\n",
       "    .dataframe thead th {\n",
       "        text-align: right;\n",
       "    }\n",
       "</style>\n",
       "<table border=\"1\" class=\"dataframe\">\n",
       "  <thead>\n",
       "    <tr style=\"text-align: right;\">\n",
       "      <th></th>\n",
       "      <th>qualified</th>\n",
       "    </tr>\n",
       "  </thead>\n",
       "  <tbody>\n",
       "    <tr>\n",
       "      <th>0</th>\n",
       "      <td>Qualified</td>\n",
       "    </tr>\n",
       "    <tr>\n",
       "      <th>1</th>\n",
       "      <td>Qualified</td>\n",
       "    </tr>\n",
       "    <tr>\n",
       "      <th>2</th>\n",
       "      <td>Qualified</td>\n",
       "    </tr>\n",
       "    <tr>\n",
       "      <th>3</th>\n",
       "      <td>Qualified</td>\n",
       "    </tr>\n",
       "    <tr>\n",
       "      <th>4</th>\n",
       "      <td>Qualified</td>\n",
       "    </tr>\n",
       "    <tr>\n",
       "      <th>...</th>\n",
       "      <td>...</td>\n",
       "    </tr>\n",
       "    <tr>\n",
       "      <th>7875</th>\n",
       "      <td>Qualified</td>\n",
       "    </tr>\n",
       "    <tr>\n",
       "      <th>7876</th>\n",
       "      <td>Unqualified</td>\n",
       "    </tr>\n",
       "    <tr>\n",
       "      <th>7877</th>\n",
       "      <td>Qualified</td>\n",
       "    </tr>\n",
       "    <tr>\n",
       "      <th>7878</th>\n",
       "      <td>Qualified</td>\n",
       "    </tr>\n",
       "    <tr>\n",
       "      <th>7879</th>\n",
       "      <td>Qualified</td>\n",
       "    </tr>\n",
       "  </tbody>\n",
       "</table>\n",
       "<p>7050 rows × 1 columns</p>\n",
       "</div>"
      ],
      "text/plain": [
       "        qualified\n",
       "0       Qualified\n",
       "1       Qualified\n",
       "2       Qualified\n",
       "3       Qualified\n",
       "4       Qualified\n",
       "...           ...\n",
       "7875    Qualified\n",
       "7876  Unqualified\n",
       "7877    Qualified\n",
       "7878    Qualified\n",
       "7879    Qualified\n",
       "\n",
       "[7050 rows x 1 columns]"
      ]
     },
     "execution_count": 34,
     "metadata": {},
     "output_type": "execute_result"
    }
   ],
   "source": [
    "#Printing the column of homes that are qualified or unqualified\n",
    "qualified=homes[['qualified']]\n",
    "qualified"
   ]
  },
  {
   "cell_type": "code",
   "execution_count": 35,
   "metadata": {},
   "outputs": [
    {
     "data": {
      "text/plain": [
       "Qualified      6901\n",
       "Unqualified     149\n",
       "Name: qualified, dtype: int64"
      ]
     },
     "execution_count": 35,
     "metadata": {},
     "output_type": "execute_result"
    }
   ],
   "source": [
    "#counting up the homes that are considered qualifed or unqualified\n",
    "pd.value_counts(homes['qualified'])"
   ]
  },
  {
   "cell_type": "code",
   "execution_count": 36,
   "metadata": {},
   "outputs": [
    {
     "data": {
      "text/plain": [
       "Text(0, 0.5, 'Count')"
      ]
     },
     "execution_count": 36,
     "metadata": {},
     "output_type": "execute_result"
    },
    {
     "data": {
      "image/png": "[encoded data removed]",
      "text/plain": [
       "<Figure size 432x288 with 1 Axes>"
      ]
     },
     "metadata": {
      "needs_background": "light"
     },
     "output_type": "display_data"
    }
   ],
   "source": [
    "#Creating a visual that displays the information\n",
    "xvar = ['Qualified', 'Unqualified']\n",
    "count = (6901,149)\n",
    "plt.bar(xvar,count)  \n",
    "plt.xticks(ha='right')\n",
    "figsize=(20,20)\n",
    "plt.title('Qualified and Unqualified Homes')\n",
    "plt.ylabel('Count')"
   ]
  },
  {
   "cell_type": "code",
   "execution_count": 50,
   "metadata": {},
   "outputs": [],
   "source": [
    "#Finding the mean price or qualified versus unqualified homes"
   ]
  },
  {
   "cell_type": "code",
   "execution_count": 37,
   "metadata": {},
   "outputs": [
    {
     "data": {
      "text/plain": [
       "340015.98087233736"
      ]
     },
     "execution_count": 37,
     "metadata": {},
     "output_type": "execute_result"
    }
   ],
   "source": [
    "Q_homes=homes.loc[homes['qualified'] =='Qualified','sale_price'].mean()\n",
    "Q_homes"
   ]
  },
  {
   "cell_type": "code",
   "execution_count": 38,
   "metadata": {},
   "outputs": [
    {
     "data": {
      "text/plain": [
       "237628.8590604027"
      ]
     },
     "execution_count": 38,
     "metadata": {},
     "output_type": "execute_result"
    }
   ],
   "source": [
    "UnQ_homes=homes.loc[homes['qualified'] =='Unqualified','sale_price'].mean()\n",
    "UnQ_homes"
   ]
  }
 ],
 "metadata": {
  "kernelspec": {
   "display_name": "Python 3 (ipykernel)",
   "language": "python",
   "name": "python3"
  },
  "language_info": {
   "codemirror_mode": {
    "name": "ipython",
    "version": 3
   },
   "file_extension": ".py",
   "mimetype": "text/x-python",
   "name": "python",
   "nbconvert_exporter": "python",
   "pygments_lexer": "ipython3",
   "version": "3.9.7"
  }
 },
 "nbformat": 4,
 "nbformat_minor": 4
}
